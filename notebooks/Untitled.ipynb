{
 "cells": [
  {
   "cell_type": "code",
   "execution_count": 1,
   "metadata": {},
   "outputs": [
    {
     "name": "stdout",
     "output_type": "stream",
     "text": [
      "http://0.0.0.0:5000/people\n",
      "http://0.0.0.0:5000/properties\n"
     ]
    }
   ],
   "source": [
    "import requests\n",
    "import json\n",
    "import urlparse\n",
    "from pprint import pprint\n",
    "\n",
    "url = \"http://0.0.0.0:5000/\"\n",
    "endpoints = [\"people\", \"properties\"]\n",
    "for e in endpoints:\n",
    "    print urlparse.urljoin(url, e)"
   ]
  },
  {
   "cell_type": "code",
   "execution_count": 7,
   "metadata": {},
   "outputs": [],
   "source": [
    "person = {\n",
    "    \"username\": \"jadams4@somewhere.org\",\n",
    "    \"firstname\": \"john\",\n",
    "    \"lastname\": \"adams2\",\n",
    "    \"role\": [\"author\"],\n",
    "    \"location\": {\n",
    "        \"address\": \"123 college ave\",\n",
    "        \"city\": \"boulder\",\n",
    "        \"zip\": 80303,\n",
    "    },\n",
    "    \"password\": \"changeme\",\n",
    "}"
   ]
  },
  {
   "cell_type": "code",
   "execution_count": 10,
   "metadata": {},
   "outputs": [
    {
     "name": "stdout",
     "output_type": "stream",
     "text": [
      "{u'_created': u'Sun, 10 Jun 2018 04:51:05 GMT',\n",
      " u'_etag': u'e6b9e782df93cc7f24657422ec9b4134649ad549',\n",
      " u'_id': u'5b1cae3928f3770001a4646f',\n",
      " u'_links': {u'self': {u'href': u'people/5b1cae3928f3770001a4646f',\n",
      "                       u'title': u'person'}},\n",
      " u'_status': u'OK',\n",
      " u'_updated': u'Sun, 10 Jun 2018 04:51:05 GMT'}\n"
     ]
    }
   ],
   "source": [
    "\n",
    "\n",
    "header = {\n",
    "    \"Content-Type\": \"application/json\",\n",
    "    \"Authorization\": \"d33236e2-83a7-4f12-b2ea-e9f7e74e342c\",\n",
    "}\n",
    "r = requests.post(\n",
    "    urlparse.urljoin(url, \"people\"),\n",
    "    headers=header,\n",
    "    data=json.dumps(person),\n",
    ")\n",
    "if r.ok:\n",
    "    pprint(r.json())\n",
    "else:\n",
    "    print r.text\n",
    "    "
   ]
  },
  {
   "cell_type": "code",
   "execution_count": 6,
   "metadata": {},
   "outputs": [
    {
     "name": "stdout",
     "output_type": "stream",
     "text": [
      "{\"token\": \"d33236e2-83a7-4f12-b2ea-e9f7e74e342c\"}\n"
     ]
    }
   ],
   "source": [
    "#login\n",
    "\n",
    "r = requests.get(urlparse.urljoin(url, \"login\"), auth=(\"jadams3@somewhere.org\", \"changeme\"))\n",
    "if r.ok:\n",
    "    print r.text\n",
    "else:\n",
    "    print r.text"
   ]
  },
  {
   "cell_type": "code",
   "execution_count": null,
   "metadata": {},
   "outputs": [],
   "source": []
  }
 ],
 "metadata": {
  "kernelspec": {
   "display_name": "Python 2",
   "language": "python",
   "name": "python2"
  },
  "language_info": {
   "codemirror_mode": {
    "name": "ipython",
    "version": 2
   },
   "file_extension": ".py",
   "mimetype": "text/x-python",
   "name": "python",
   "nbconvert_exporter": "python",
   "pygments_lexer": "ipython2",
   "version": "2.7.15rc1"
  }
 },
 "nbformat": 4,
 "nbformat_minor": 2
}
